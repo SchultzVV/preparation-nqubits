{
 "cells": [
  {
   "cell_type": "code",
   "execution_count": 1,
   "id": "d31c2f6d",
   "metadata": {},
   "outputs": [],
   "source": [
    "from sympy import *\n",
    "import numpy as np\n",
    "\n",
    "init_printing(use_unicode=True)\n",
    "from matplotlib import pyplot as plt\n",
    "%matplotlib inline\n",
    "from sympy.physics.quantum.dagger import Dagger\n",
    "from sympy.physics.quantum import TensorProduct\n",
    "import scipy.interpolate\n",
    "import platform"
   ]
  },
  {
   "cell_type": "code",
   "execution_count": 2,
   "id": "43ba8cf5",
   "metadata": {},
   "outputs": [],
   "source": [
    "import numpy as np\n",
    "from matplotlib import pyplot as plt\n",
    "import matplotlib"
   ]
  },
  {
   "cell_type": "code",
   "execution_count": 3,
   "id": "377e108e",
   "metadata": {},
   "outputs": [],
   "source": [
    "import qiskit\n",
    "import sympy as sym"
   ]
  },
  {
   "cell_type": "code",
   "execution_count": 4,
   "id": "6d8abfad",
   "metadata": {},
   "outputs": [
    {
     "name": "stderr",
     "output_type": "stream",
     "text": [
      "C:\\Users\\dougl\\AppData\\Local\\Temp\\ipykernel_7544\\1308432029.py:1: DeprecationWarning: The package qiskit.providers.ibmq is being deprecated. Please see https://ibm.biz/provider_migration_guide to get instructions on how to migrate to qiskit-ibm-provider (https://github.com/Qiskit/qiskit-ibm-provider) and qiskit-ibm-runtime (https://github.com/Qiskit/qiskit-ibm-runtime).\n",
      "  qiskit.IBMQ.save_account('2537d4125e263262381a269464d18da5d1d1a37a4a00534ce31274e9e2186327f9f93c3cf4265d538d599408669cf7ebe06b299ead2876a3035550c0071af3b6', overwrite=True)\n",
      "C:\\Users\\dougl\\AppData\\Local\\Temp\\ipykernel_7544\\1308432029.py:1: DeprecationWarning: The qiskit.IBMQ entrypoint and the qiskit-ibmq-provider package (accessible from 'qiskit.providers.ibmq`) are deprecated and will be removed in a future release. Instead you should use the qiskit-ibm-provider package which is accessible from 'qiskit_ibm_provider'. You can install it with 'pip install qiskit_ibm_provider'. Just replace 'qiskit.IBMQ' with 'qiskit_ibm_provider.IBMProvider'\n",
      "  qiskit.IBMQ.save_account('2537d4125e263262381a269464d18da5d1d1a37a4a00534ce31274e9e2186327f9f93c3cf4265d538d599408669cf7ebe06b299ead2876a3035550c0071af3b6', overwrite=True)\n"
     ]
    }
   ],
   "source": [
    "qiskit.IBMQ.save_account('2537d4125e263262381a269464d18da5d1d1a37a4a00534ce31274e9e2186327f9f93c3cf4265d538d599408669cf7ebe06b299ead2876a3035550c0071af3b6', overwrite=True)"
   ]
  },
  {
   "cell_type": "code",
   "execution_count": 5,
   "id": "1e6901c5",
   "metadata": {},
   "outputs": [],
   "source": [
    "from qiskit import *\n",
    "nshots = 10000\n",
    "IBMQ.load_account()\n",
    "provider = qiskit.IBMQ.get_provider(hub='ibm-q', group='open', project='main')\n",
    "#provider = qiskit.IBMQ.get_provider(hub = 'ibm-q-research-2', group = 'federal-uni-sant-1', project = 'main')\n",
    "device = provider.get_backend('ibmq_quito')\n",
    "simulator = Aer.get_backend('qasm_simulator')\n",
    "from qiskit.visualization import plot_histogram\n",
    "from qiskit.tools.monitor import job_monitor"
   ]
  },
  {
   "cell_type": "code",
   "execution_count": 6,
   "id": "26ba7dc9",
   "metadata": {},
   "outputs": [
    {
     "name": "stdout",
     "output_type": "stream",
     "text": [
      "ibm_perth                    ibm_nairobi                  ibm_lagos\n",
      "---------                    -----------                  ---------\n",
      "Num. Qubits:  7              Num. Qubits:  7              Num. Qubits:  7\n",
      "Pending Jobs: 310            Pending Jobs: 139            Pending Jobs: 42\n",
      "Least busy:   False          Least busy:   False          Least busy:   False\n",
      "Operational:  True           Operational:  True           Operational:  True\n",
      "Avg. T1:      191.9          Avg. T1:      110.1          Avg. T1:      123.7\n",
      "Avg. T2:      118.3          Avg. T2:      69.4           Avg. T2:      71.1\n",
      "\n",
      "\n",
      "\n",
      "ibmq_manila                  ibmq_jakarta                 ibmq_quito\n",
      "-----------                  ------------                 ----------\n",
      "Num. Qubits:  5              Num. Qubits:  7              Num. Qubits:  5\n",
      "Pending Jobs: 40             Pending Jobs: 134            Pending Jobs: 21\n",
      "Least busy:   False          Least busy:   False          Least busy:   False\n",
      "Operational:  True           Operational:  True           Operational:  True\n",
      "Avg. T1:      171.0          Avg. T1:      102.0          Avg. T1:      89.4\n",
      "Avg. T2:      62.3           Avg. T2:      43.9           Avg. T2:      93.8\n",
      "\n",
      "\n",
      "\n",
      "ibmq_belem                   ibmq_lima\n",
      "----------                   ---------\n",
      "Num. Qubits:  5              Num. Qubits:  5\n",
      "Pending Jobs: 20             Pending Jobs: 42\n",
      "Least busy:   True           Least busy:   False\n",
      "Operational:  True           Operational:  True\n",
      "Avg. T1:      91.7           Avg. T1:      94.0\n",
      "Avg. T2:      118.2          Avg. T2:      114.8\n",
      "\n",
      "\n",
      "\n"
     ]
    }
   ],
   "source": [
    "from qiskit.tools.monitor import backend_overview, backend_monitor\n",
    "backend_overview()"
   ]
  },
  {
   "cell_type": "code",
   "execution_count": 7,
   "id": "970003d8",
   "metadata": {},
   "outputs": [],
   "source": [
    "from qiskit import QuantumCircuit, execute\n",
    "from qiskit.providers.aer import QasmSimulator\n",
    "import qiskit.quantum_info as qi\n",
    "import math \n",
    "%matplotlib inline"
   ]
  },
  {
   "cell_type": "code",
   "execution_count": 8,
   "id": "3cbfa2a1",
   "metadata": {},
   "outputs": [],
   "source": [
    "def cb(d, j):\n",
    "    cbs = np.zeros(d,1); cbs[j] = 1\n",
    "    return cbs"
   ]
  },
  {
   "cell_type": "code",
   "execution_count": 9,
   "id": "9fb18452",
   "metadata": {},
   "outputs": [],
   "source": [
    "def coh_l1(rho):\n",
    "    d = rho.shape[0]; C = 0\n",
    "    for j in range(0,d-1):\n",
    "        for k in range(j+1,d):\n",
    "            C += abs(rho[j,k])\n",
    "    return 2*C"
   ]
  },
  {
   "cell_type": "code",
   "execution_count": 10,
   "id": "76de8366",
   "metadata": {},
   "outputs": [],
   "source": [
    "def concurrence(rho):\n",
    "    R = rho*tp(Pauli(2),Pauli(2))*conjugate(rho)*tp(Pauli(2),Pauli(2))\n",
    "    evals = zeros(4,1)\n",
    "    ev = eVals(R)\n",
    "    evm = max(abs(ev[0]), abs(ev[1]), abs(ev[2]), abs(ev[3]))\n",
    "    C = 2.0*sqrt(abs(evm)) - sqrt(abs(ev[0])) - sqrt(abs(ev[1])) - sqrt(abs(ev[2])) - sqrt(abs(ev[3]))\n",
    "    if C < 0.0:\n",
    "        C = 0.0\n",
    "    return C"
   ]
  },
  {
   "cell_type": "code",
   "execution_count": 11,
   "id": "4967df33",
   "metadata": {},
   "outputs": [],
   "source": [
    "# Outside these functions, initialize: rhos = zeros(ds,ds), s=A,B\n",
    "def ptraceA(da, db, rho):\n",
    "    rhoB = zeros(db,db)\n",
    "    for j in range(0, db):\n",
    "        for k in range(0, db):\n",
    "            for l in range(0, da):\n",
    "                rhoB[j,k] += rho[l*db+j,l*db+k]\n",
    "    return rhoB\n",
    "def ptraceB(da, db, rho):\n",
    "    rhoA = zeros(da,da)\n",
    "    for j in range(0, da):\n",
    "        for k in range(0, da):\n",
    "            for l in range(0, db):\n",
    "                rhoA[j,k] += rho[j*db+l,k*db+l]\n",
    "    return rhoA"
   ]
  },
  {
   "cell_type": "code",
   "execution_count": 12,
   "id": "08e88ee2",
   "metadata": {},
   "outputs": [],
   "source": [
    "def ptranspose(da,db,rho,ssys):\n",
    "    ptp = zeros(da*db,da*db)\n",
    "    if ssys == 'b':\n",
    "        for ja in range(0,da):\n",
    "            for ka in range(0,da):\n",
    "                for jb in range(0,db):\n",
    "                    for kb in range(0,db):\n",
    "                        ptp[ja*db+kb,ka*db+jb] = rho[ja*db+jb,ka*db+kb]\n",
    "    elif ssys == 'a':\n",
    "        for ja in range(0,da):\n",
    "            for ka in range(0,da):\n",
    "                for jb in range(0,db):\n",
    "                    for kb in range(0,db):\n",
    "                        ptp[ka*db+jb,ja*db+kb] = rho[ja*db+jb,ka*db+kb]\n",
    "    return ptp"
   ]
  },
  {
   "cell_type": "code",
   "execution_count": 13,
   "id": "b8870c5a",
   "metadata": {},
   "outputs": [],
   "source": [
    "# outside this function, initialize: rhoTb = zeros(4,4); evals = zeros(4,1)\n",
    "def negativity(da, db, rho):\n",
    "    d = da*db\n",
    "    rhoTb = ptranspose(da, db, rho,'b')\n",
    "    En = (norm_tr(rhoTb) - 1)/2\n",
    "    return En"
   ]
  },
  {
   "cell_type": "code",
   "execution_count": null,
   "id": "64c3ea19",
   "metadata": {},
   "outputs": [],
   "source": []
  },
  {
   "cell_type": "code",
   "execution_count": 14,
   "id": "cd8a5936",
   "metadata": {},
   "outputs": [
    {
     "name": "stderr",
     "output_type": "stream",
     "text": [
      "C:\\Users\\dougl\\AppData\\Local\\Temp\\ipykernel_7544\\919383025.py:1: DeprecationWarning: The qiskit.ignis package is deprecated and has been supersceded by the qiskit-experiments project. Refer to the migration guide: https://github.com/Qiskit/qiskit-ignis#migration-guide on how to migrate to the new project.\n",
      "  from qiskit.ignis.verification.tomography import state_tomography_circuits, StateTomographyFitter\n"
     ]
    }
   ],
   "source": [
    "from qiskit.ignis.verification.tomography import state_tomography_circuits, StateTomographyFitter"
   ]
  },
  {
   "cell_type": "code",
   "execution_count": 270,
   "id": "03e2805d",
   "metadata": {},
   "outputs": [
    {
     "data": {
      "image/png": "[encoded data removed]",
      "text/plain": [
       "<Figure size 1262.52x702.333 with 1 Axes>"
      ]
     },
     "execution_count": 270,
     "metadata": {},
     "output_type": "execute_result"
    }
   ],
   "source": [
    "# Initializing a four-qubit quantum state\n",
    "# sequencia: 0000 0001 0010 0011 0100 0101 0110 0111 1000 1001 1010 1011 1100 1101 1110 1111 \n",
    "\n",
    "\n",
    "# |0000000>  |0101000> |1010000> |0001001> |0110010> |1000011> |0100100> |1001101> |0010110>\n",
    "\n",
    "# 0 = |0000000>  10 =|0101000> 5 =|1010000> 72=|0001001> 38=|0110010> \n",
    "# 97 =|1000011> 18 =|0100100> 89=|1001101> 52=|0010110>\n",
    "\n",
    "\n",
    "desired_vector = [\n",
    "    math.sqrt(2/21),0,0,0,0,\n",
    "    math.sqrt(2/21),0,0,0,0,\n",
    "    math.sqrt(2/21),0,0,0,0,\n",
    "    0,0,0,math.sqrt((5-3)/21),0,\n",
    "    0,0,0,0,0,\n",
    "    0,0,0,0,0,\n",
    "    0,0,0,0,0,\n",
    "    0,0,0,math.sqrt(3/21),0,\n",
    "    0,0,0,0,0,\n",
    "    0,0,0,0,0,\n",
    "    0,0,math.sqrt((5-3)/21),0,0,\n",
    "    0,0,0,0,0,\n",
    "    0,0,0,0,0,\n",
    "    0,0,0,0,0,\n",
    "    0,0,math.sqrt(3/21),0,0,\n",
    "    0,0,0,0,0,\n",
    "    0,0,0,0,0,\n",
    "    0,0,0,0,math.sqrt((5-3)/21),\n",
    "    0,0,0,0,0,\n",
    "    0,0,math.sqrt(3/21),0,0,\n",
    "    0,0,0,0,0,\n",
    "    0,0,0,0,0,\n",
    "    0,0,0,0,0,\n",
    "    0,0,0,0,0,\n",
    "    0,0,0,0,0,\n",
    "    0,0,0]\n",
    "\n",
    "\n",
    "qr = QuantumRegister(7)\n",
    "cr = ClassicalRegister(7)\n",
    "#qc = QuantumCircuit(qr)\n",
    "qc = QuantumCircuit(qr,cr)\n",
    "\n",
    "qc.initialize(desired_vector, [qr[0],qr[1],qr[2],qr[3],qr[4],qr[5],qr[6]])\n",
    "\n",
    "#qc.measure(qr[0],cr[0])\n",
    "qc.measure(qr,cr)\n",
    "#qc.measure(qr[1],cr[1]);\n",
    "#qc.measure([1],[1]);\n",
    "qc.draw(output='mpl')\n",
    "#type(desired_vector)\n"
   ]
  },
  {
   "cell_type": "code",
   "execution_count": 271,
   "id": "bdd6364e",
   "metadata": {},
   "outputs": [],
   "source": [
    "result = execute(qc, backend = simulator, shots = nshots).result()"
   ]
  },
  {
   "cell_type": "code",
   "execution_count": 272,
   "id": "9414025e",
   "metadata": {},
   "outputs": [
    {
     "data": {
      "image/png": "[encoded data removed]",
      "text/plain": [
       "<Figure size 700x500 with 1 Axes>"
      ]
     },
     "execution_count": 272,
     "metadata": {},
     "output_type": "execute_result"
    }
   ],
   "source": [
    "# para visualizar o histograma da distribuicao de probabilidades\n",
    "from qiskit.tools.visualization import plot_histogram\n",
    "plot_histogram(result.get_counts(qc))"
   ]
  },
  {
   "cell_type": "code",
   "execution_count": 33,
   "id": "f9b9b1d9",
   "metadata": {},
   "outputs": [],
   "source": [
    "import numpy as np\n",
    "from numpy.linalg import lapack_lite\n",
    "  "
   ]
  },
  {
   "cell_type": "code",
   "execution_count": 36,
   "id": "7518fed0",
   "metadata": {},
   "outputs": [
    {
     "name": "stdout",
     "output_type": "stream",
     "text": [
      "[[0. 0. 0. 0.]\n",
      " [0. 0. 0. 0.]\n",
      " [0. 0. 0. 0.]\n",
      " [0. 0. 0. 0.]]\n"
     ]
    }
   ],
   "source": [
    "n = 4 # dimensão do operador densidade\n",
    "rho = np.zeros((n,n), dtype=np.float64) # matriz para o operador densidade\n",
    "#norm = 0.0 # norma de Frobenius do operador densidade\n",
    "print(rho)"
   ]
  },
  {
   "cell_type": "code",
   "execution_count": 37,
   "id": "1061b468",
   "metadata": {},
   "outputs": [],
   "source": [
    "for i in range(n):\n",
    "    for j in range(n):\n",
    "        rho[i,j] = np.random.rand()-0.5\n"
   ]
  },
  {
   "cell_type": "code",
   "execution_count": 38,
   "id": "5ebd5d50",
   "metadata": {},
   "outputs": [
    {
     "name": "stdout",
     "output_type": "stream",
     "text": [
      "Operador densidade:\n",
      "[[-0.02588009 -0.10359888 -0.35535557 -0.11437528]\n",
      " [ 0.03165653  0.06930175 -0.10522351 -0.37016137]\n",
      " [-0.34223779 -0.43551967  0.46276282  0.17490653]\n",
      " [ 0.21757138  0.07437254  0.12552645 -0.27417263]]\n"
     ]
    }
   ],
   "source": [
    "norm = np.linalg.norm(rho)\n",
    "rho /= norm\n",
    "print(\"Operador densidade:\")\n",
    "print(rho)\n",
    "\n"
   ]
  },
  {
   "cell_type": "code",
   "execution_count": 57,
   "id": "709b93a4",
   "metadata": {},
   "outputs": [],
   "source": [
    "#### outra forma"
   ]
  },
  {
   "cell_type": "code",
   "execution_count": 58,
   "id": "a47c4755",
   "metadata": {},
   "outputs": [],
   "source": [
    "import numpy as np\n",
    "\n",
    "def cb(n, i):\n",
    "    return np.eye(n)[:, i]"
   ]
  },
  {
   "cell_type": "code",
   "execution_count": 59,
   "id": "362e6965",
   "metadata": {},
   "outputs": [
    {
     "data": {
      "text/plain": [
       "array([1., 0., 0.])"
      ]
     },
     "execution_count": 59,
     "metadata": {},
     "output_type": "execute_result"
    }
   ],
   "source": [
    "np.eye(3)[:, 0]"
   ]
  },
  {
   "cell_type": "code",
   "execution_count": 73,
   "id": "0bfc2299",
   "metadata": {},
   "outputs": [
    {
     "name": "stdout",
     "output_type": "stream",
     "text": [
      "[0.43686293 0.91684918]\n"
     ]
    }
   ],
   "source": [
    "import numpy as n\n",
    "from scipy.linalg import lapack\n",
    "\n",
    "# Definindo a dimensão do operador densidade\n",
    "n = 2\n",
    "\n",
    "# Gerando uma matriz hermitiana aleatória\n",
    "A = np.random.rand(n, n) + 1j * np.random.rand(n, n)\n",
    "H = (A + A.conj().T) / 2\n",
    "# Calculando os autovalores e autovetores\n",
    "w, vr, info = lapack.zheev(H, overwrite_a=True)\n",
    "# Construindo o operador densidade a partir dos autovalores e autovetores\n",
    "rho = np.zeros((n, n), dtype=np.complex128)\n",
    "psi = 0\n",
    "U_ = 0\n",
    "#np.zeros((n, 1), dtype=np.complex128)\n",
    "\n",
    "for i in range(len(vr)):\n",
    "    vr[:, i] = vr[:, i]/np.linalg.norm(vr[:, i])\n",
    "for i in range(n):\n",
    "    rho += w[i] * np.outer(vr[:, i], vr[:, i].conj())\n",
    "    #w[i]=np.where(np.array(w[i]) > 0, np.array(w[i]), 0)\n",
    "    psi += math.sqrt(w[i])*np.eye(n)[:, i]\n",
    "    #psi += np.sqrt(w[i])*vr[:, i]/trace_rho\n",
    "    U_ += vr[:, :]/np.inner(vr[:, i].conj(),vr[:, i])\n",
    "# Cria três matrizes coluna de exemplo # não necessário pois vr normalizado retorna matriz U DESEJADA\n",
    "#col1 = np.array(vr[:, 0])\n",
    "#col2 = np.array(vr[:, 1])\n",
    "# Empilha as matrizes coluna em uma única matriz\n",
    "#U_ = np.column_stack((col1, col2))\n",
    "#threshold = 0.001\n",
    "#y = np.where(np.logical_and(w[i] >= 0, ~np.isclose(w[i], 0, rtol=0, atol=threshold)), w[i], 0)\n",
    "\n",
    "print(psi)\n",
    "\n",
    "\n",
    "\n"
   ]
  },
  {
   "cell_type": "code",
   "execution_count": 61,
   "id": "37e4715d",
   "metadata": {},
   "outputs": [
    {
     "name": "stdout",
     "output_type": "stream",
     "text": [
      "[[ 1.40189503+0.53964667j  1.23226063+0.47434746j]\n",
      " [-1.32040592+0.j          1.5021745 +0.j        ]]\n"
     ]
    }
   ],
   "source": [
    "print(U_)"
   ]
  },
  {
   "cell_type": "code",
   "execution_count": 95,
   "id": "d683e0ff",
   "metadata": {},
   "outputs": [
    {
     "name": "stdout",
     "output_type": "stream",
     "text": [
      "[0.         0.33213674 0.50047884 0.92949197]\n"
     ]
    }
   ],
   "source": [
    "import numpy as np\n",
    "from scipy.linalg import lapack\n",
    "\n",
    "# Definindo a dimensão do operador densidade\n",
    "n = 4\n",
    "\n",
    "# Gerando uma matriz hermitiana aleatória\n",
    "A = np.random.rand(n, n) + 1j * np.random.rand(n, n)\n",
    "H = (A + A.conj().T) / 2\n",
    "\n",
    "# Definindo a dimensão da matriz hermitiana\n",
    "n = 4\n",
    "\n",
    "# Normalizando o traço da matriz hermitiana para 1\n",
    "H = np.divide(H, np.trace(H))\n",
    "\n",
    "# Calculando os autovalores e autovetores\n",
    "w, vr, info = lapack.zheev(H, overwrite_a=True)\n",
    "# Construindo o operador densidade a partir dos autovalores e autovetores\n",
    "rho = np.zeros((n, n), dtype=np.complex128)\n",
    "psi = 0\n",
    "U_ = 0\n",
    "#np.zeros((n, 1), dtype=np.complex128)\n",
    "\n",
    "for i in range(len(vr)):\n",
    "    vr[:, i] = vr[:, i]/np.linalg.norm(vr[:, i])\n",
    "for i in range(n):\n",
    "    rho += w[i] * np.outer(vr[:, i], vr[:, i].conj())\n",
    "    #w[i]=np.where(np.array(w[i]) > 0, np.array(w[i]), 0)\n",
    "    w[i] = np.clip(w[i], a_min=0, a_max=np.inf)\n",
    "    psi += math.sqrt(w[i])*np.eye(n)[:, i]\n",
    "    #psi += np.sqrt(w[i])*vr[:, i]/trace_rho\n",
    "    U_ += vr[:, :]/np.inner(vr[:, i].conj(),vr[:, i])\n",
    "# Cria três matrizes coluna de exemplo # não necessário pois vr normalizado retorna matriz U DESEJADA\n",
    "#col1 = np.array(vr[:, 0])\n",
    "#col2 = np.array(vr[:, 1])\n",
    "# Empilha as matrizes coluna em uma única matriz\n",
    "#U_ = np.column_stack((col1, col2))\n",
    "#threshold = 0.001\n",
    "#y = np.where(np.logical_and(w[i] >= 0, ~np.isclose(w[i], 0, rtol=0, atol=threshold)), w[i], 0)\n",
    "\n",
    "print(psi)\n"
   ]
  },
  {
   "cell_type": "code",
   "execution_count": null,
   "id": "5c4de931",
   "metadata": {},
   "outputs": [],
   "source": []
  },
  {
   "cell_type": "code",
   "execution_count": 297,
   "id": "7c5d0bc3",
   "metadata": {},
   "outputs": [],
   "source": []
  },
  {
   "cell_type": "code",
   "execution_count": 62,
   "id": "f2a827b2",
   "metadata": {},
   "outputs": [
    {
     "data": {
      "text/plain": [
       "array([0.22948211, 0.        ])"
      ]
     },
     "execution_count": 62,
     "metadata": {},
     "output_type": "execute_result"
    }
   ],
   "source": [
    "math.sqrt(w[0])*np.eye(n)[:, 0]"
   ]
  },
  {
   "cell_type": "code",
   "execution_count": 63,
   "id": "ccf3650b",
   "metadata": {},
   "outputs": [
    {
     "data": {
      "text/plain": [
       "array([0.        , 1.23386002])"
      ]
     },
     "execution_count": 63,
     "metadata": {},
     "output_type": "execute_result"
    }
   ],
   "source": [
    "math.sqrt(w[1])*np.eye(n)[:, 1]"
   ]
  },
  {
   "cell_type": "code",
   "execution_count": 64,
   "id": "ed7a3b4a",
   "metadata": {},
   "outputs": [
    {
     "data": {
      "image/png": "[encoded data removed]",
      "text/latex": [
       "$\\displaystyle 1.23386001573328$"
      ],
      "text/plain": [
       "1.2338600157332824"
      ]
     },
     "execution_count": 64,
     "metadata": {},
     "output_type": "execute_result"
    }
   ],
   "source": [
    "math.sqrt(w[i])"
   ]
  },
  {
   "cell_type": "code",
   "execution_count": 65,
   "id": "1ced66c4",
   "metadata": {},
   "outputs": [
    {
     "name": "stdout",
     "output_type": "stream",
     "text": [
      "[[ 0.70094752+0.26982334j  0.61613032+0.23717373j]\n",
      " [-0.66020296+0.j          0.75108725+0.j        ]]\n"
     ]
    }
   ],
   "source": [
    "import numpy as np\n",
    "\n",
    "# Cria três matrizes coluna de exemplo\n",
    "#col1 = np.array(vr[:, 0])\n",
    "#col2 = np.array(vr[:, 1])\n",
    "col1 = np.array(vr[:, 0]/np.linalg.norm(vr[:, i]))\n",
    "col2 = np.array(vr[:, 1]/np.linalg.norm(vr[:, i]))\n",
    "#col3 = np.array([[7], [8], [9]])\n",
    "\n",
    "# Empilha as matrizes coluna em uma única matriz\n",
    "U_ = np.column_stack((col1, col2))\n",
    "\n",
    "print(U_)\n"
   ]
  },
  {
   "cell_type": "code",
   "execution_count": 66,
   "id": "e94f4462",
   "metadata": {},
   "outputs": [
    {
     "name": "stdout",
     "output_type": "stream",
     "text": [
      "True\n"
     ]
    }
   ],
   "source": [
    "import numpy as np\n",
    "#from scipy import lapack\n",
    "\n",
    "U_inv = np.linalg.inv(U_)\n",
    "U_T = U_.transpose()\n",
    "print(np.allclose(U_inv, U_T.conj()))"
   ]
  },
  {
   "cell_type": "code",
   "execution_count": null,
   "id": "4a469897",
   "metadata": {},
   "outputs": [],
   "source": []
  },
  {
   "cell_type": "code",
   "execution_count": 67,
   "id": "b1c1f840",
   "metadata": {},
   "outputs": [],
   "source": [
    "for i in range(len(vr)):\n",
    "    vr[:, i] = vr[:, i]/np.linalg.norm(vr[:, i])"
   ]
  },
  {
   "cell_type": "code",
   "execution_count": null,
   "id": "110e1619",
   "metadata": {},
   "outputs": [],
   "source": []
  },
  {
   "cell_type": "code",
   "execution_count": 63,
   "id": "97e9f7c0",
   "metadata": {},
   "outputs": [],
   "source": [
    "##############3"
   ]
  },
  {
   "cell_type": "code",
   "execution_count": 68,
   "id": "cda829a1",
   "metadata": {},
   "outputs": [],
   "source": [
    "import numpy as np\n",
    "from scipy.linalg import lapack"
   ]
  },
  {
   "cell_type": "code",
   "execution_count": 65,
   "id": "8c386ab8",
   "metadata": {},
   "outputs": [],
   "source": [
    "A = np.array([[2, 1+1j, 0], [1-1j, 1, -1j], [0, 1j, -1]])\n",
    "A_herm = A.conj().T.dot(A) # transforma A em uma matriz hermitiana"
   ]
  },
  {
   "cell_type": "code",
   "execution_count": 66,
   "id": "615fc533",
   "metadata": {},
   "outputs": [],
   "source": [
    "##########################3"
   ]
  },
  {
   "cell_type": "code",
   "execution_count": 67,
   "id": "8e309cba",
   "metadata": {},
   "outputs": [
    {
     "ename": "NameError",
     "evalue": "name 'Unit_' is not defined",
     "output_type": "error",
     "traceback": [
      "\u001b[1;31m---------------------------------------------------------------------------\u001b[0m",
      "\u001b[1;31mNameError\u001b[0m                                 Traceback (most recent call last)",
      "Cell \u001b[1;32mIn[67], line 4\u001b[0m\n\u001b[0;32m      1\u001b[0m \u001b[38;5;28;01mimport\u001b[39;00m \u001b[38;5;21;01mnumpy\u001b[39;00m \u001b[38;5;28;01mas\u001b[39;00m \u001b[38;5;21;01mnp\u001b[39;00m\n\u001b[0;32m      2\u001b[0m \u001b[38;5;66;03m#from scipy import lapack\u001b[39;00m\n\u001b[1;32m----> 4\u001b[0m Unit_inv \u001b[38;5;241m=\u001b[39m np\u001b[38;5;241m.\u001b[39mlinalg\u001b[38;5;241m.\u001b[39minv(\u001b[43mUnit_\u001b[49m)\n\u001b[0;32m      5\u001b[0m Unit_T \u001b[38;5;241m=\u001b[39m Unit_\u001b[38;5;241m.\u001b[39mtranspose()\n\u001b[0;32m      6\u001b[0m \u001b[38;5;28mprint\u001b[39m(np\u001b[38;5;241m.\u001b[39mallclose(Unit_inv, Unit_T\u001b[38;5;241m.\u001b[39mconj()))\n",
      "\u001b[1;31mNameError\u001b[0m: name 'Unit_' is not defined"
     ]
    }
   ],
   "source": [
    "import numpy as np\n",
    "#from scipy import lapack\n",
    "\n",
    "Unit_inv = np.linalg.inv(Unit_)\n",
    "Unit_T = Unit_.transpose()\n",
    "print(np.allclose(Unit_inv, Unit_T.conj()))"
   ]
  },
  {
   "cell_type": "code",
   "execution_count": 96,
   "id": "8363e37a",
   "metadata": {},
   "outputs": [],
   "source": [
    "trace_rho = np.trace(rho)\n",
    "normalized_w = w / trace_rho"
   ]
  },
  {
   "cell_type": "code",
   "execution_count": 97,
   "id": "efe3d635",
   "metadata": {},
   "outputs": [
    {
     "name": "stdout",
     "output_type": "stream",
     "text": [
      "[[0.20067456+0.j         0.14418333+0.01659039j 0.09145148-0.14684236j\n",
      "  0.2032132 -0.13567583j]\n",
      " [0.14418333-0.01659039j 0.28510699+0.j         0.28019034-0.16500101j\n",
      "  0.08672794+0.09420538j]\n",
      " [0.09145148+0.14684236j 0.28019034+0.16500101j 0.38223637+0.j\n",
      "  0.24116053-0.04898535j]\n",
      " [0.2032132 +0.13567583j 0.08672794-0.09420538j 0.24116053+0.04898535j\n",
      "  0.13198208+0.j        ]]\n"
     ]
    }
   ],
   "source": [
    "print(rho)"
   ]
  },
  {
   "cell_type": "code",
   "execution_count": 98,
   "id": "a308b38a",
   "metadata": {},
   "outputs": [
    {
     "name": "stdout",
     "output_type": "stream",
     "text": [
      "[0.        +0.j 0.11031482+0.j 0.25047907+0.j 0.86395533+0.j]\n"
     ]
    }
   ],
   "source": [
    "print(normalized_w)"
   ]
  },
  {
   "cell_type": "code",
   "execution_count": 54,
   "id": "9cc2386c",
   "metadata": {},
   "outputs": [
    {
     "data": {
      "text/plain": [
       "numpy.ndarray"
      ]
     },
     "execution_count": 54,
     "metadata": {},
     "output_type": "execute_result"
    }
   ],
   "source": [
    "type(psi)"
   ]
  },
  {
   "cell_type": "code",
   "execution_count": 55,
   "id": "8daf6a79",
   "metadata": {},
   "outputs": [
    {
     "data": {
      "image/png": "[encoded data removed]",
      "text/latex": [
       "$\\displaystyle \\left( 2,\\right)$"
      ],
      "text/plain": [
       "(2,)"
      ]
     },
     "execution_count": 55,
     "metadata": {},
     "output_type": "execute_result"
    }
   ],
   "source": [
    "psi.shape"
   ]
  },
  {
   "cell_type": "code",
   "execution_count": 240,
   "id": "2ec08feb",
   "metadata": {},
   "outputs": [
    {
     "data": {
      "text/plain": [
       "0j"
      ]
     },
     "execution_count": 240,
     "metadata": {},
     "output_type": "execute_result"
    }
   ],
   "source": [
    "np.sqrt(w[0])/trace_rho"
   ]
  },
  {
   "cell_type": "code",
   "execution_count": 241,
   "id": "76189a58",
   "metadata": {},
   "outputs": [
    {
     "data": {
      "text/plain": [
       "(0.3171964600852628+0j)"
      ]
     },
     "execution_count": 241,
     "metadata": {},
     "output_type": "execute_result"
    }
   ],
   "source": [
    "np.sqrt(w[1])/trace_rho"
   ]
  },
  {
   "cell_type": "code",
   "execution_count": null,
   "id": "60785899",
   "metadata": {},
   "outputs": [],
   "source": []
  },
  {
   "cell_type": "code",
   "execution_count": 76,
   "id": "c542a197",
   "metadata": {},
   "outputs": [
    {
     "data": {
      "image/png": "[encoded data removed]",
      "text/plain": [
       "<Figure size 287.496x200.667 with 1 Axes>"
      ]
     },
     "execution_count": 76,
     "metadata": {},
     "output_type": "execute_result"
    }
   ],
   "source": [
    "def qc_desired_vector():\n",
    "    qr = QuantumRegister(1)\n",
    "    cr = ClassicalRegister(1)\n",
    "    desired_vector = [\n",
    "       np.sqrt(normalized_w[0])\n",
    "       ,np.sqrt(normalized_w[1])]\n",
    "    qc = QuantumCircuit(qr,cr, name='qc_initialize')\n",
    "    qc.initialize(desired_vector, [qr[0]])\n",
    "    return qc\n",
    "\n",
    "\n",
    "\n",
    "qc_desired_vector=qc_desired_vector()\n",
    "qc_desired_vector.decompose().decompose().decompose().decompose().decompose().draw('mpl')\n",
    "#qc.measure(qr[0],cr[0])\n",
    "#qc.measure(qr,cr)\n",
    "#qc.measure(qr[0],cr[0])\n",
    "#qc.measure(qr[1],cr[1]);\n",
    "#qc.measure([1],[1]);\n",
    "     #qc.draw(output='mpl')\n",
    "#type(desired_vector)"
   ]
  },
  {
   "cell_type": "code",
   "execution_count": null,
   "id": "96fcc6ce",
   "metadata": {},
   "outputs": [],
   "source": []
  },
  {
   "cell_type": "code",
   "execution_count": 102,
   "id": "d103957c",
   "metadata": {},
   "outputs": [
    {
     "data": {
      "text/plain": [
       "(1.2247492122982295+0j)"
      ]
     },
     "execution_count": 102,
     "metadata": {},
     "output_type": "execute_result"
    }
   ],
   "source": [
    "(w[0]+w[1]+w[2]+w[3])/trace_rho"
   ]
  },
  {
   "cell_type": "code",
   "execution_count": 244,
   "id": "d4d3aa90",
   "metadata": {},
   "outputs": [
    {
     "data": {
      "text/plain": [
       "0j"
      ]
     },
     "execution_count": 244,
     "metadata": {},
     "output_type": "execute_result"
    }
   ],
   "source": [
    "normalized_w[0]"
   ]
  },
  {
   "cell_type": "code",
   "execution_count": 99,
   "id": "50cced3a",
   "metadata": {},
   "outputs": [
    {
     "data": {
      "text/plain": [
       "(1.2247492122982295+0j)"
      ]
     },
     "execution_count": 99,
     "metadata": {},
     "output_type": "execute_result"
    }
   ],
   "source": [
    "normalized_w[0] +normalized_w[1]+normalized_w[2]+normalized_w[3]"
   ]
  },
  {
   "cell_type": "code",
   "execution_count": 103,
   "id": "5ed8f55f",
   "metadata": {},
   "outputs": [
    {
     "name": "stderr",
     "output_type": "stream",
     "text": [
      "C:\\Users\\dougl\\AppData\\Local\\Temp\\ipykernel_7544\\896550988.py:5: ComplexWarning: Casting complex values to real discards the imaginary part\n",
      "  math.sqrt(normalized_w[0]),\n",
      "C:\\Users\\dougl\\AppData\\Local\\Temp\\ipykernel_7544\\896550988.py:6: ComplexWarning: Casting complex values to real discards the imaginary part\n",
      "  math.sqrt(normalized_w[1]),\n",
      "C:\\Users\\dougl\\AppData\\Local\\Temp\\ipykernel_7544\\896550988.py:7: ComplexWarning: Casting complex values to real discards the imaginary part\n",
      "  math.sqrt(normalized_w[2]),\n",
      "C:\\Users\\dougl\\AppData\\Local\\Temp\\ipykernel_7544\\896550988.py:8: ComplexWarning: Casting complex values to real discards the imaginary part\n",
      "  math.sqrt(normalized_w[3])]\n"
     ]
    },
    {
     "ename": "QiskitError",
     "evalue": "'Sum of amplitudes-squared does not equal one.'",
     "output_type": "error",
     "traceback": [
      "\u001b[1;31m---------------------------------------------------------------------------\u001b[0m",
      "\u001b[1;31mQiskitError\u001b[0m                               Traceback (most recent call last)",
      "Cell \u001b[1;32mIn[103], line 15\u001b[0m\n\u001b[0;32m     12\u001b[0m \u001b[38;5;66;03m#qc = QuantumCircuit(qr)\u001b[39;00m\n\u001b[0;32m     13\u001b[0m qc \u001b[38;5;241m=\u001b[39m QuantumCircuit(qr,cr, name\u001b[38;5;241m=\u001b[39m\u001b[38;5;124m'\u001b[39m\u001b[38;5;124mqc_initialize\u001b[39m\u001b[38;5;124m'\u001b[39m)\n\u001b[1;32m---> 15\u001b[0m \u001b[43mqc\u001b[49m\u001b[38;5;241;43m.\u001b[39;49m\u001b[43minitialize\u001b[49m\u001b[43m(\u001b[49m\u001b[43mdesired_vector_\u001b[49m\u001b[43m,\u001b[49m\u001b[43m \u001b[49m\u001b[43m[\u001b[49m\u001b[43mqr\u001b[49m\u001b[43m[\u001b[49m\u001b[38;5;241;43m0\u001b[39;49m\u001b[43m]\u001b[49m\u001b[43m,\u001b[49m\u001b[43mqr\u001b[49m\u001b[43m[\u001b[49m\u001b[38;5;241;43m1\u001b[39;49m\u001b[43m]\u001b[49m\u001b[43m]\u001b[49m\u001b[43m)\u001b[49m\n\u001b[0;32m     17\u001b[0m \u001b[38;5;66;03m#qc.measure(qr[0],cr[0])\u001b[39;00m\n\u001b[0;32m     18\u001b[0m \u001b[38;5;66;03m#qc.measure(qr,cr)\u001b[39;00m\n\u001b[0;32m     19\u001b[0m \u001b[38;5;66;03m#qc.measure(qr[1],cr[1]);\u001b[39;00m\n\u001b[0;32m     20\u001b[0m \u001b[38;5;66;03m#qc.measure([1],[1]);\u001b[39;00m\n\u001b[0;32m     21\u001b[0m qc\u001b[38;5;241m.\u001b[39mdraw(output\u001b[38;5;241m=\u001b[39m\u001b[38;5;124m'\u001b[39m\u001b[38;5;124mmpl\u001b[39m\u001b[38;5;124m'\u001b[39m)\n",
      "File \u001b[1;32m~\\anaconda3\\lib\\site-packages\\qiskit\\extensions\\quantum_initializer\\initializer.py:191\u001b[0m, in \u001b[0;36minitialize\u001b[1;34m(self, params, qubits)\u001b[0m\n\u001b[0;32m    188\u001b[0m     qubits \u001b[38;5;241m=\u001b[39m [qubits]\n\u001b[0;32m    189\u001b[0m num_qubits \u001b[38;5;241m=\u001b[39m \u001b[38;5;28mlen\u001b[39m(qubits) \u001b[38;5;28;01mif\u001b[39;00m \u001b[38;5;28misinstance\u001b[39m(params, \u001b[38;5;28mint\u001b[39m) \u001b[38;5;28;01melse\u001b[39;00m \u001b[38;5;28;01mNone\u001b[39;00m\n\u001b[1;32m--> 191\u001b[0m \u001b[38;5;28;01mreturn\u001b[39;00m \u001b[38;5;28mself\u001b[39m\u001b[38;5;241m.\u001b[39mappend(\u001b[43mInitialize\u001b[49m\u001b[43m(\u001b[49m\u001b[43mparams\u001b[49m\u001b[43m,\u001b[49m\u001b[43m \u001b[49m\u001b[43mnum_qubits\u001b[49m\u001b[43m)\u001b[49m, qubits)\n",
      "File \u001b[1;32m~\\anaconda3\\lib\\site-packages\\qiskit\\extensions\\quantum_initializer\\initializer.py:57\u001b[0m, in \u001b[0;36mInitialize.__init__\u001b[1;34m(self, params, num_qubits)\u001b[0m\n\u001b[0;32m     36\u001b[0m \u001b[38;5;28;01mdef\u001b[39;00m \u001b[38;5;21m__init__\u001b[39m(\u001b[38;5;28mself\u001b[39m, params, num_qubits\u001b[38;5;241m=\u001b[39m\u001b[38;5;28;01mNone\u001b[39;00m):\n\u001b[0;32m     37\u001b[0m     \u001b[38;5;124mr\u001b[39m\u001b[38;5;124;03m\"\"\"Create new initialize composite.\u001b[39;00m\n\u001b[0;32m     38\u001b[0m \n\u001b[0;32m     39\u001b[0m \u001b[38;5;124;03m    Args:\u001b[39;00m\n\u001b[1;32m   (...)\u001b[0m\n\u001b[0;32m     55\u001b[0m \u001b[38;5;124;03m            and the remaining 3 qubits to be initialized to :math:`|0\\rangle`.\u001b[39;00m\n\u001b[0;32m     56\u001b[0m \u001b[38;5;124;03m    \"\"\"\u001b[39;00m\n\u001b[1;32m---> 57\u001b[0m     \u001b[38;5;28mself\u001b[39m\u001b[38;5;241m.\u001b[39m_stateprep \u001b[38;5;241m=\u001b[39m \u001b[43mStatePreparation\u001b[49m\u001b[43m(\u001b[49m\u001b[43mparams\u001b[49m\u001b[43m,\u001b[49m\u001b[43m \u001b[49m\u001b[43mnum_qubits\u001b[49m\u001b[43m)\u001b[49m\n\u001b[0;32m     59\u001b[0m     \u001b[38;5;28msuper\u001b[39m()\u001b[38;5;241m.\u001b[39m\u001b[38;5;21m__init__\u001b[39m(\u001b[38;5;124m\"\u001b[39m\u001b[38;5;124minitialize\u001b[39m\u001b[38;5;124m\"\u001b[39m, \u001b[38;5;28mself\u001b[39m\u001b[38;5;241m.\u001b[39m_stateprep\u001b[38;5;241m.\u001b[39mnum_qubits, \u001b[38;5;241m0\u001b[39m, \u001b[38;5;28mself\u001b[39m\u001b[38;5;241m.\u001b[39m_stateprep\u001b[38;5;241m.\u001b[39mparams)\n",
      "File \u001b[1;32m~\\anaconda3\\lib\\site-packages\\qiskit\\circuit\\library\\data_preparation\\state_preparation.py:99\u001b[0m, in \u001b[0;36mStatePreparation.__init__\u001b[1;34m(self, params, num_qubits, inverse, label)\u001b[0m\n\u001b[0;32m     96\u001b[0m \u001b[38;5;28mself\u001b[39m\u001b[38;5;241m.\u001b[39m_from_label \u001b[38;5;241m=\u001b[39m \u001b[38;5;28misinstance\u001b[39m(params, \u001b[38;5;28mstr\u001b[39m)\n\u001b[0;32m     97\u001b[0m \u001b[38;5;28mself\u001b[39m\u001b[38;5;241m.\u001b[39m_from_int \u001b[38;5;241m=\u001b[39m \u001b[38;5;28misinstance\u001b[39m(params, \u001b[38;5;28mint\u001b[39m)\n\u001b[1;32m---> 99\u001b[0m num_qubits \u001b[38;5;241m=\u001b[39m \u001b[38;5;28;43mself\u001b[39;49m\u001b[38;5;241;43m.\u001b[39;49m\u001b[43m_get_num_qubits\u001b[49m\u001b[43m(\u001b[49m\u001b[43mnum_qubits\u001b[49m\u001b[43m,\u001b[49m\u001b[43m \u001b[49m\u001b[43mparams\u001b[49m\u001b[43m)\u001b[49m\n\u001b[0;32m    101\u001b[0m params \u001b[38;5;241m=\u001b[39m [params] \u001b[38;5;28;01mif\u001b[39;00m \u001b[38;5;28misinstance\u001b[39m(params, \u001b[38;5;28mint\u001b[39m) \u001b[38;5;28;01melse\u001b[39;00m params\n\u001b[0;32m    103\u001b[0m \u001b[38;5;28msuper\u001b[39m()\u001b[38;5;241m.\u001b[39m\u001b[38;5;21m__init__\u001b[39m(\u001b[38;5;28mself\u001b[39m\u001b[38;5;241m.\u001b[39m_name, num_qubits, params, label\u001b[38;5;241m=\u001b[39m\u001b[38;5;28mself\u001b[39m\u001b[38;5;241m.\u001b[39m_label)\n",
      "File \u001b[1;32m~\\anaconda3\\lib\\site-packages\\qiskit\\circuit\\library\\data_preparation\\state_preparation.py:202\u001b[0m, in \u001b[0;36mStatePreparation._get_num_qubits\u001b[1;34m(self, num_qubits, params)\u001b[0m\n\u001b[0;32m    200\u001b[0m     \u001b[38;5;66;03m# Check if probabilities (amplitudes squared) sum to 1\u001b[39;00m\n\u001b[0;32m    201\u001b[0m     \u001b[38;5;28;01mif\u001b[39;00m \u001b[38;5;129;01mnot\u001b[39;00m math\u001b[38;5;241m.\u001b[39misclose(\u001b[38;5;28msum\u001b[39m(np\u001b[38;5;241m.\u001b[39mabsolute(params) \u001b[38;5;241m*\u001b[39m\u001b[38;5;241m*\u001b[39m \u001b[38;5;241m2\u001b[39m), \u001b[38;5;241m1.0\u001b[39m, abs_tol\u001b[38;5;241m=\u001b[39m_EPS):\n\u001b[1;32m--> 202\u001b[0m         \u001b[38;5;28;01mraise\u001b[39;00m QiskitError(\u001b[38;5;124m\"\u001b[39m\u001b[38;5;124mSum of amplitudes-squared does not equal one.\u001b[39m\u001b[38;5;124m\"\u001b[39m)\n\u001b[0;32m    204\u001b[0m     num_qubits \u001b[38;5;241m=\u001b[39m \u001b[38;5;28mint\u001b[39m(num_qubits)\n\u001b[0;32m    205\u001b[0m \u001b[38;5;28;01mreturn\u001b[39;00m num_qubits\n",
      "\u001b[1;31mQiskitError\u001b[0m: 'Sum of amplitudes-squared does not equal one.'"
     ]
    }
   ],
   "source": [
    "# Initializing a four-qubit quantum state\n",
    "#def qc_initialize():\n",
    "\n",
    "desired_vector_ = [\n",
    "    math.sqrt(normalized_w[0]),\n",
    "    math.sqrt(normalized_w[1]),\n",
    "    math.sqrt(normalized_w[2]),\n",
    "    math.sqrt(normalized_w[3])]\n",
    "\n",
    "qr = QuantumRegister(2)\n",
    "cr = ClassicalRegister(2)\n",
    "#qc = QuantumCircuit(qr)\n",
    "qc = QuantumCircuit(qr,cr, name='qc_initialize')\n",
    "\n",
    "qc.initialize(desired_vector_, [qr[0],qr[1]])\n",
    "\n",
    "#qc.measure(qr[0],cr[0])\n",
    "#qc.measure(qr,cr)\n",
    "#qc.measure(qr[1],cr[1]);\n",
    "#qc.measure([1],[1]);\n",
    "qc.draw(output='mpl')\n",
    "#type(desired_vector)\n",
    "#qc_initialize=qc_initialize()\n",
    "#qc_initialize.draw('mpl')"
   ]
  },
  {
   "cell_type": "code",
   "execution_count": null,
   "id": "2cbaf3fb",
   "metadata": {},
   "outputs": [],
   "source": []
  },
  {
   "cell_type": "code",
   "execution_count": 151,
   "id": "f7a12b08",
   "metadata": {},
   "outputs": [
    {
     "data": {
      "image/png": "[encoded data removed]",
      "text/plain": [
       "<Figure size 342.592x367.889 with 1 Axes>"
      ]
     },
     "execution_count": 151,
     "metadata": {},
     "output_type": "execute_result"
    }
   ],
   "source": [
    "def qc_CNOTS_mistura():\n",
    "    qr = QuantumRegister(4)\n",
    "    qc = QuantumCircuit(qr, name = 'mistura')\n",
    "    qc.cx(0,2)\n",
    "    qc.cx(1,3)\n",
    "    return qc\n",
    "\n",
    "qc_CNOTS_mistura=qc_CNOTS_mistura()\n",
    "qc_CNOTS_mistura.draw('mpl')"
   ]
  },
  {
   "cell_type": "code",
   "execution_count": 157,
   "id": "a71930a8",
   "metadata": {},
   "outputs": [
    {
     "data": {
      "image/png": "[encoded data removed]",
      "text/plain": [
       "<Figure size 1374.44x953.167 with 1 Axes>"
      ]
     },
     "execution_count": 157,
     "metadata": {},
     "output_type": "execute_result"
    }
   ],
   "source": [
    "from qiskit import QuantumCircuit, Aer, execute\n",
    "\n",
    "# Define o número de qubits\n",
    "n = 5\n",
    "qubits = 2*n\n",
    "\n",
    "# Cria um circuito quântico com qubits\n",
    "circuito = QuantumCircuit(qubits, qubits)\n",
    "\n",
    "# Aplica portas CNOT para cada par de qubits adjacentes\n",
    "for i in range(n):\n",
    "    circuito.cx(i, n+i)\n",
    "   # circuito.cx(n+i, i)\n",
    "\n",
    "# Mede todos os qubits\n",
    "circuito.measure(range(qubits), range(qubits))\n",
    "\n",
    "circuito.draw('mpl')\n",
    "\n",
    "# Simula o circuito\n",
    "#simulador = Aer.get_backend('qasm_simulator')\n",
    "#resultados = execute(circuito, simulador, shots=nshots).result()\n",
    "\n",
    "# Imprime os resultados\n",
    "#print(resultados.get_counts(circuito))\n"
   ]
  },
  {
   "cell_type": "code",
   "execution_count": null,
   "id": "08ec1602",
   "metadata": {},
   "outputs": [],
   "source": []
  },
  {
   "cell_type": "markdown",
   "id": "f39124cc",
   "metadata": {},
   "source": [
    "\n",
    "Os operadores unitários podem ser inseridos diretamente em um QuantumCircuit usando o método QuantumCircuit.append. Isso converte o Operator em um objeto UnitaryGate, que é adicionado ao circuito.\n",
    "\n",
    "Se o operador não for unitário, uma exceção será levantada. Isso pode ser verificado usando a função Operator.is_unitary(), que retornará True se o operador for unitário e False caso contrário."
   ]
  },
  {
   "cell_type": "code",
   "execution_count": 308,
   "id": "9b6c78fc",
   "metadata": {},
   "outputs": [],
   "source": [
    "import numpy as np\n",
    "\n",
    "from qiskit import QuantumCircuit, ClassicalRegister, QuantumRegister\n",
    "from qiskit import BasicAer\n",
    "from qiskit.compiler import transpile\n",
    "from qiskit.quantum_info.operators import Operator, Pauli\n",
    "from qiskit.quantum_info import process_fidelity\n",
    "\n",
    "from qiskit.extensions import RXGate, XGate, CXGate"
   ]
  },
  {
   "cell_type": "code",
   "execution_count": 309,
   "id": "9397ec34",
   "metadata": {},
   "outputs": [
    {
     "data": {
      "text/plain": [
       "Operator([[0.+0.j, 0.+0.j, 0.+0.j, 1.+0.j],\n",
       "          [0.+0.j, 0.+0.j, 1.+0.j, 0.+0.j],\n",
       "          [0.+0.j, 1.+0.j, 0.+0.j, 0.+0.j],\n",
       "          [1.+0.j, 0.+0.j, 0.+0.j, 0.+0.j]],\n",
       "         input_dims=(2, 2), output_dims=(2, 2))"
      ]
     },
     "execution_count": 309,
     "metadata": {},
     "output_type": "execute_result"
    }
   ],
   "source": [
    "XX = Operator([[0, 0, 0, 1], [0, 0, 1, 0], [0, 1, 0, 0], [1, 0, 0, 0]])\n",
    "XX"
   ]
  },
  {
   "cell_type": "code",
   "execution_count": 310,
   "id": "feaa4cd1",
   "metadata": {},
   "outputs": [
    {
     "data": {
      "text/plain": [
       "array([[0.+0.j, 0.+0.j, 0.+0.j, 1.+0.j],\n",
       "       [0.+0.j, 0.+0.j, 1.+0.j, 0.+0.j],\n",
       "       [0.+0.j, 1.+0.j, 0.+0.j, 0.+0.j],\n",
       "       [1.+0.j, 0.+0.j, 0.+0.j, 0.+0.j]])"
      ]
     },
     "execution_count": 310,
     "metadata": {},
     "output_type": "execute_result"
    }
   ],
   "source": [
    "XX.data"
   ]
  },
  {
   "cell_type": "code",
   "execution_count": 40,
   "id": "960b31cd",
   "metadata": {},
   "outputs": [
    {
     "data": {
      "image/png": "[encoded data removed]",
      "text/latex": [
       "$\\displaystyle \\left( 4, \\  4\\right)$"
      ],
      "text/plain": [
       "(4, 4)"
      ]
     },
     "execution_count": 40,
     "metadata": {},
     "output_type": "execute_result"
    }
   ],
   "source": [
    "input_dim, output_dim = XX.dim\n",
    "input_dim, output_dim"
   ]
  },
  {
   "cell_type": "code",
   "execution_count": 161,
   "id": "229b6bf7",
   "metadata": {},
   "outputs": [
    {
     "data": {
      "text/plain": [
       "Operator([[ 0.70710678+0.j,  0.70710678+0.j,  0.        +0.j, ...,\n",
       "            0.        +0.j,  0.        +0.j,  0.        +0.j],\n",
       "          [ 0.        +0.j,  0.        +0.j,  0.70710678+0.j, ...,\n",
       "            0.        +0.j,  0.        +0.j,  0.        +0.j],\n",
       "          [ 0.        +0.j,  0.        +0.j,  0.        +0.j, ...,\n",
       "            0.        +0.j,  0.        +0.j,  0.        +0.j],\n",
       "          ...,\n",
       "          [ 0.        +0.j,  0.        +0.j,  0.        +0.j, ...,\n",
       "            0.        +0.j,  0.        +0.j,  0.        +0.j],\n",
       "          [ 0.        +0.j,  0.        +0.j,  0.70710678+0.j, ...,\n",
       "            0.        +0.j,  0.        +0.j,  0.        +0.j],\n",
       "          [ 0.70710678+0.j, -0.70710678+0.j,  0.        +0.j, ...,\n",
       "            0.        +0.j,  0.        +0.j,  0.        +0.j]],\n",
       "         input_dims=(2, 2, 2, 2, 2, 2, 2, 2, 2, 2), output_dims=(2, 2, 2, 2, 2, 2, 2, 2, 2, 2))"
      ]
     },
     "execution_count": 161,
     "metadata": {},
     "output_type": "execute_result"
    }
   ],
   "source": [
    "# Create an operator from a QuantumCircuit object\n",
    "circ = QuantumCircuit(10)\n",
    "circ.h(0)\n",
    "for j in range(1, 10):\n",
    "    circ.cx(j-1, j)\n",
    "\n",
    "# Convert circuit to an operator by implicit unitary simulation\n",
    "Operator(circ)"
   ]
  },
  {
   "cell_type": "code",
   "execution_count": 75,
   "id": "fa35f1e6",
   "metadata": {},
   "outputs": [],
   "source": [
    "XXXX = Operator(np.kron(([[0, 0, 0, 1], [0, 0, 1, 0], [0, 1, 0, 0], [1, 0, 0, 0]]),([[0, 0, 0, 1], [0, 0, 1, 0], [0, 1, 0, 0], [1, 0, 0, 0]])))"
   ]
  },
  {
   "cell_type": "code",
   "execution_count": 313,
   "id": "7a657129",
   "metadata": {},
   "outputs": [],
   "source": [
    "UU_ = Operator(np.kron(U_,U_))"
   ]
  },
  {
   "cell_type": "code",
   "execution_count": 314,
   "id": "afbfd552",
   "metadata": {},
   "outputs": [
    {
     "name": "stdout",
     "output_type": "stream",
     "text": [
      "Operator([[ 0.17980122-0.49230976j,  0.17132852-0.46911083j,\n",
      "            0.17132852-0.46911083j,  0.16325506-0.44700509j],\n",
      "          [-0.40925725+0.28622881j,  0.42949624-0.30038368j,\n",
      "           -0.38997197+0.27274096j,  0.40925725-0.28622881j],\n",
      "          [-0.40925725+0.28622881j, -0.38997197+0.27274096j,\n",
      "            0.42949624-0.30038368j,  0.40925725-0.28622881j],\n",
      "          [ 0.47588419-0.j        , -0.49941809+0.j        ,\n",
      "           -0.49941809+0.j        ,  0.52411581+0.j        ]],\n",
      "         input_dims=(2, 2), output_dims=(2, 2))\n"
     ]
    }
   ],
   "source": [
    "print(UU_)"
   ]
  },
  {
   "cell_type": "code",
   "execution_count": 80,
   "id": "3b432e14",
   "metadata": {},
   "outputs": [
    {
     "name": "stdout",
     "output_type": "stream",
     "text": [
      "Operator([[0.+0.j, 0.+0.j, 0.+0.j, 0.+0.j, 0.+0.j, 0.+0.j, 0.+0.j, 0.+0.j,\n",
      "           0.+0.j, 0.+0.j, 0.+0.j, 0.+0.j, 0.+0.j, 0.+0.j, 0.+0.j, 1.+0.j],\n",
      "          [0.+0.j, 0.+0.j, 0.+0.j, 0.+0.j, 0.+0.j, 0.+0.j, 0.+0.j, 0.+0.j,\n",
      "           0.+0.j, 0.+0.j, 0.+0.j, 0.+0.j, 0.+0.j, 0.+0.j, 1.+0.j, 0.+0.j],\n",
      "          [0.+0.j, 0.+0.j, 0.+0.j, 0.+0.j, 0.+0.j, 0.+0.j, 0.+0.j, 0.+0.j,\n",
      "           0.+0.j, 0.+0.j, 0.+0.j, 0.+0.j, 0.+0.j, 1.+0.j, 0.+0.j, 0.+0.j],\n",
      "          [0.+0.j, 0.+0.j, 0.+0.j, 0.+0.j, 0.+0.j, 0.+0.j, 0.+0.j, 0.+0.j,\n",
      "           0.+0.j, 0.+0.j, 0.+0.j, 0.+0.j, 1.+0.j, 0.+0.j, 0.+0.j, 0.+0.j],\n",
      "          [0.+0.j, 0.+0.j, 0.+0.j, 0.+0.j, 0.+0.j, 0.+0.j, 0.+0.j, 0.+0.j,\n",
      "           0.+0.j, 0.+0.j, 0.+0.j, 1.+0.j, 0.+0.j, 0.+0.j, 0.+0.j, 0.+0.j],\n",
      "          [0.+0.j, 0.+0.j, 0.+0.j, 0.+0.j, 0.+0.j, 0.+0.j, 0.+0.j, 0.+0.j,\n",
      "           0.+0.j, 0.+0.j, 1.+0.j, 0.+0.j, 0.+0.j, 0.+0.j, 0.+0.j, 0.+0.j],\n",
      "          [0.+0.j, 0.+0.j, 0.+0.j, 0.+0.j, 0.+0.j, 0.+0.j, 0.+0.j, 0.+0.j,\n",
      "           0.+0.j, 1.+0.j, 0.+0.j, 0.+0.j, 0.+0.j, 0.+0.j, 0.+0.j, 0.+0.j],\n",
      "          [0.+0.j, 0.+0.j, 0.+0.j, 0.+0.j, 0.+0.j, 0.+0.j, 0.+0.j, 0.+0.j,\n",
      "           1.+0.j, 0.+0.j, 0.+0.j, 0.+0.j, 0.+0.j, 0.+0.j, 0.+0.j, 0.+0.j],\n",
      "          [0.+0.j, 0.+0.j, 0.+0.j, 0.+0.j, 0.+0.j, 0.+0.j, 0.+0.j, 1.+0.j,\n",
      "           0.+0.j, 0.+0.j, 0.+0.j, 0.+0.j, 0.+0.j, 0.+0.j, 0.+0.j, 0.+0.j],\n",
      "          [0.+0.j, 0.+0.j, 0.+0.j, 0.+0.j, 0.+0.j, 0.+0.j, 1.+0.j, 0.+0.j,\n",
      "           0.+0.j, 0.+0.j, 0.+0.j, 0.+0.j, 0.+0.j, 0.+0.j, 0.+0.j, 0.+0.j],\n",
      "          [0.+0.j, 0.+0.j, 0.+0.j, 0.+0.j, 0.+0.j, 1.+0.j, 0.+0.j, 0.+0.j,\n",
      "           0.+0.j, 0.+0.j, 0.+0.j, 0.+0.j, 0.+0.j, 0.+0.j, 0.+0.j, 0.+0.j],\n",
      "          [0.+0.j, 0.+0.j, 0.+0.j, 0.+0.j, 1.+0.j, 0.+0.j, 0.+0.j, 0.+0.j,\n",
      "           0.+0.j, 0.+0.j, 0.+0.j, 0.+0.j, 0.+0.j, 0.+0.j, 0.+0.j, 0.+0.j],\n",
      "          [0.+0.j, 0.+0.j, 0.+0.j, 1.+0.j, 0.+0.j, 0.+0.j, 0.+0.j, 0.+0.j,\n",
      "           0.+0.j, 0.+0.j, 0.+0.j, 0.+0.j, 0.+0.j, 0.+0.j, 0.+0.j, 0.+0.j],\n",
      "          [0.+0.j, 0.+0.j, 1.+0.j, 0.+0.j, 0.+0.j, 0.+0.j, 0.+0.j, 0.+0.j,\n",
      "           0.+0.j, 0.+0.j, 0.+0.j, 0.+0.j, 0.+0.j, 0.+0.j, 0.+0.j, 0.+0.j],\n",
      "          [0.+0.j, 1.+0.j, 0.+0.j, 0.+0.j, 0.+0.j, 0.+0.j, 0.+0.j, 0.+0.j,\n",
      "           0.+0.j, 0.+0.j, 0.+0.j, 0.+0.j, 0.+0.j, 0.+0.j, 0.+0.j, 0.+0.j],\n",
      "          [1.+0.j, 0.+0.j, 0.+0.j, 0.+0.j, 0.+0.j, 0.+0.j, 0.+0.j, 0.+0.j,\n",
      "           0.+0.j, 0.+0.j, 0.+0.j, 0.+0.j, 0.+0.j, 0.+0.j, 0.+0.j, 0.+0.j]],\n",
      "         input_dims=(2, 2, 2, 2), output_dims=(2, 2, 2, 2))\n"
     ]
    }
   ],
   "source": [
    "print(XXXX)"
   ]
  },
  {
   "cell_type": "code",
   "execution_count": 315,
   "id": "31d35c1c",
   "metadata": {},
   "outputs": [
    {
     "data": {
      "image/png": "[encoded data removed]",
      "text/plain": [
       "<Figure size 568.197x325.08 with 1 Axes>"
      ]
     },
     "execution_count": 315,
     "metadata": {},
     "output_type": "execute_result"
    }
   ],
   "source": [
    "# Create an operator\n",
    "#XX = Operator(Pauli('XX'))\n",
    "#CX = Operator(CXGate())\n",
    "circ = QuantumCircuit(4,4)\n",
    "#theta = Parameter('θ')\n",
    "#phi = Parameter('φ')\n",
    "circ.append(qc_desired_vector, [0])\n",
    "#U = Operator([[cos(pi/2), 0,-sin(pi/2),0], [0, sin(pi),0,cos(pi)],[0, cos(pi),0,-sin(pi)],[sin(pi/2), 0,cos(pi/2),0]])\n",
    "#XX = Operator([[0, 0, 0, 1], [0, 0, 1, 0], [0, 1, 0, 0], [1, 0, 0, 0]])\n",
    "UU_ = Operator(np.kron(U_,U_))\n",
    "#XXXX = Operator(np.kron(([[0, 0, 0, 1], [0, 0, 1, 0], [0, 1, 0, 0], [1, 0, 0, 0]]),([[0, 0, 0, 1], [0, 0, 1, 0], [0, 1, 0, 0], [1, 0, 0, 0]])))\n",
    "# Add to a circuit\n",
    "circ.append(qc_CNOTS_mistura, [0,1,2,3])\n",
    "circ.append(UU_ , [2, 3])\n",
    "#circ.append(XXXX, [0, 1, 2, 3])\n",
    "circ.measure([2,3], [2,3])\n",
    "#circ.decompose().draw('mpl')\n",
    "#print(circ.decompose())\n",
    "circ.draw('mpl')\n",
    "\n",
    "#qstc = state_tomography_circuits(circ, [qr[0], qr[1], qr[2],qr[3]]); # circuito para TEQ\n",
    "#job_sim = qiskit.execute(qstc, Aer.get_backend('qasm_simulator'), shots = nshots)\n",
    "#print(job_sim.job_id()); job_monitor(job_sim)\n",
    "#qstf = StateTomographyFitter(job_sim.result(), qstc) # ajusta os dados\n",
    "#rhoDC= qstf.fit(method='lstsq'); #rhoDCBA # extrai o operador densidade\n",
    "#print(rhoDC)\n",
    "#Csim[j] = coh_l1(rhoDC)\n",
    "#print(Csim[j])"
   ]
  },
  {
   "cell_type": "code",
   "execution_count": null,
   "id": "384078c9",
   "metadata": {},
   "outputs": [],
   "source": []
  }
 ],
 "metadata": {
  "kernelspec": {
   "display_name": "Python 3 (ipykernel)",
   "language": "python",
   "name": "python3"
  },
  "language_info": {
   "codemirror_mode": {
    "name": "ipython",
    "version": 3
   },
   "file_extension": ".py",
   "mimetype": "text/x-python",
   "name": "python",
   "nbconvert_exporter": "python",
   "pygments_lexer": "ipython3",
   "version": "3.10.9"
  }
 },
 "nbformat": 4,
 "nbformat_minor": 5
}
